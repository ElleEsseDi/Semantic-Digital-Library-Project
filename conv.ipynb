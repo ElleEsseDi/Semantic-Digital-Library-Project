{
 "cells": [
  {
   "cell_type": "code",
   "execution_count": 22,
   "metadata": {},
   "outputs": [],
   "source": [
    "import pandas as pd\n",
    "import os as os\n",
    "import json\n",
    "import re as r\n",
    "from pprint import pprint\n",
    "import unicodedata as uncd\n",
    "import requests"
   ]
  },
  {
   "cell_type": "code",
   "execution_count": 17,
   "metadata": {},
   "outputs": [],
   "source": [
    "entities= dict()\n",
    "\n",
    "with open(\"dev_data.json/dev_data.json\", \"r\", encoding=\"utf-8\") as f:\n",
    "    data = json.load(f)\n",
    "    #data = uncd.normalize(\"NFKC\", data)"
   ]
  },
  {
   "cell_type": "code",
   "execution_count": null,
   "metadata": {},
   "outputs": [],
   "source": [
    "for p in data:\n",
    "    narrat = p['narration']\n",
    "    for z in p['entity_ref_dict']:\n",
    "        ent = z\n",
    "        eve = p['entity_ref_dict'][z]\n",
    "        narrat = r.sub(ent, eve, narrat)\n",
    "    print(narrat)"
   ]
  },
  {
   "cell_type": "code",
   "execution_count": 18,
   "metadata": {},
   "outputs": [],
   "source": [
    "for x in data:\n",
    "    narration_unfixed_encoding = x['narration']\n",
    "    narration_fixed = uncd.normalize(\"NFKC\", narration_unfixed_encoding)\n",
    "    narration_fixed = \"\".join(c for c in narration_fixed if uncd.category(c)[0] != \"C\")\n",
    "\n",
    "    narration = narration_fixed\n",
    "    main_event = x['Event_Name']\n",
    "    main_event_triples = dict()\n",
    "\n",
    "    for y in x['keep_triples']:\n",
    "        main_event_triples[y[1]] = y[2]\n",
    "\n",
    "    main_event_triples['type'] = x['types']\n",
    "    main_event_triples['appears in'] = narration\n",
    "    entities[main_event] = main_event_triples\n",
    "\n",
    "    for z in x['entity_ref_dict']:\n",
    "        entity = z\n",
    "        event = x['entity_ref_dict'][z]\n",
    "\n",
    "        narration = r.sub(entity, event, narration)\n",
    "\n",
    "    for z in x['entity_ref_dict']:\n",
    "        event = x['entity_ref_dict'][z]\n",
    "        entities[event] = {'appears in':narration}\n",
    "        \n",
    "    entities[narration] = {'type':'context_narration'}\n",
    "\n",
    "        \n",
    "    "
   ]
  },
  {
   "cell_type": "code",
   "execution_count": 3,
   "metadata": {},
   "outputs": [
    {
     "name": "stdout",
     "output_type": "stream",
     "text": [
      "12\n"
     ]
    }
   ],
   "source": [
    "idx=0\n",
    "for x in data:\n",
    "    if x[\"Event_Name\"] == \"Gallant Bloom Handicap\":\n",
    "        print(idx)\n",
    "    else:\n",
    "        idx+=1"
   ]
  },
  {
   "cell_type": "code",
   "execution_count": null,
   "metadata": {},
   "outputs": [],
   "source": [
    "pprint(entities)"
   ]
  },
  {
   "cell_type": "code",
   "execution_count": 29,
   "metadata": {},
   "outputs": [],
   "source": [
    "API_URL = \"https://rel.cs.ru.nl/api\"\n",
    "text_doc = \"Brunei at the 2013 World Aquatics Championships\"\n",
    "# Example EL.\n",
    "el_result = requests.post(API_URL, json={\n",
    "    \"text\": text_doc,\n",
    "    \"spans\": []\n",
    "}).json()\n",
    "\n",
    "# Example ED.\n",
    "ed_result = requests.post(API_URL, json={\n",
    "    \"text\": text_doc,\n",
    "    \"spans\": []\n",
    "}).json()"
   ]
  },
  {
   "cell_type": "code",
   "execution_count": null,
   "metadata": {},
   "outputs": [],
   "source": [
    "print (el_result)\n",
    "print (ed_result)"
   ]
  }
 ],
 "metadata": {
  "kernelspec": {
   "display_name": "project",
   "language": "python",
   "name": "python3"
  },
  "language_info": {
   "codemirror_mode": {
    "name": "ipython",
    "version": 3
   },
   "file_extension": ".py",
   "mimetype": "text/x-python",
   "name": "python",
   "nbconvert_exporter": "python",
   "pygments_lexer": "ipython3",
   "version": "3.10.11"
  }
 },
 "nbformat": 4,
 "nbformat_minor": 2
}
